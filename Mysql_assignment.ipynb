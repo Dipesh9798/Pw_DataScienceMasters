{
 "cells": [
  {
   "cell_type": "markdown",
   "id": "c59c9091-f8e3-4f29-b3ac-5a07b7cf7210",
   "metadata": {},
   "source": [
    "1.Database->A database is an organized collection of data, so that it can be easily accessed and managed.We can organize data into tables, rows, columns, and index it to make it easier to find relevant information.  \n",
    "Difference between SQL and NoSQL->  \n",
    "(i)Sql db is a relation database management system, while NoSql is non-relational dbms.  \n",
    "(ii)Sql follows ACID(atomicity,consistency,isolation,durability),while NoSql follows CAP(consistency,availability,partition tolerance).  \n",
    "(iii)Sql database has predefined schema, while NoSql database have dynamic schema.  \n",
    "(iv)Sql database are vertically scalable,while NoSql database are horizontally scalable."
   ]
  },
  {
   "cell_type": "markdown",
   "id": "183e4654-4d17-465b-9923-48d75bc48af4",
   "metadata": {},
   "source": [
    "2.DDl->DDL or Data Definition Language actually consists of the SQL commands that can be used to define the database schema. It simply deals with descriptions of the database schema and is used to create and modify the structure of database objects in the database. DDL is a set of SQL commands used to create, modify, and delete database structures but not data.    \n",
    "\n",
    "CREATE-> This command is used to create the database or its objects (like table, index, function, views, store procedure, and triggers). eg-CREATE TABLE Subject(Sub_ID INT, Sub_Name varchar(20),Sub_teacher varchar(20));   \n",
    "\n",
    "DROP-> This command is used to delete objects from the database.eg-DROP TABLE Subject;    \n",
    "\n",
    "ALTER-> This is used to alter the structure of the database.eg-ALTER TABLE Subject DROP COLUMN Sub_teacher;    \n",
    "\n",
    "TRUNCATE-> This is used to remove all records from a table, including all spaces allocated for the records are removed.eg-TRUNCATE TABLE Student_details;"
   ]
  },
  {
   "cell_type": "code",
   "execution_count": null,
   "id": "b488659e-fc67-45c6-a092-2b1ded582523",
   "metadata": {},
   "outputs": [],
   "source": []
  }
 ],
 "metadata": {
  "kernelspec": {
   "display_name": "Python 3 (ipykernel)",
   "language": "python",
   "name": "python3"
  },
  "language_info": {
   "codemirror_mode": {
    "name": "ipython",
    "version": 3
   },
   "file_extension": ".py",
   "mimetype": "text/x-python",
   "name": "python",
   "nbconvert_exporter": "python",
   "pygments_lexer": "ipython3",
   "version": "3.10.8"
  }
 },
 "nbformat": 4,
 "nbformat_minor": 5
}
