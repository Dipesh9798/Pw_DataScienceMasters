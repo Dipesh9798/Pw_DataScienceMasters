{
 "cells": [
  {
   "cell_type": "markdown",
   "id": "343c6058-0684-4b68-9e98-4230f3af1947",
   "metadata": {},
   "source": [
    "1.Multiprocessing->Multiprocessing in Python is a built-in package that allows the system to run multiple processes simultaneously. It will enable the breaking of applications into smaller threads that can run independently. The operating system can then allocate all these threads or processes to the processor to run them parallelly, thus improving the overall performance and efficiency.  \n",
    "Multiprocessing is useful because performing multiple operations for a single processor becomes challenging. As the number of processes keeps increasing, the processor will have to halt the current process and move to the next, to keep them going. Thus, it will have to interrupt each task, thereby hampering the performance.That's why multiprocessing becomes essential as it is easier to manage different processes."
   ]
  },
  {
   "cell_type": "markdown",
   "id": "a2b6a7c8-b3a4-4ea0-81e0-a05c2607a5d5",
   "metadata": {},
   "source": [
    "2.Difference between multiprocessing and multithreading-  \n",
    "    (i)In multiprocessing we increase number of cpu's to increase computing power,while In Multithreading, many threads        are created of a single process for increasing computing power.  \n",
    "    (ii)In Multiprocessing, Many processes are executed simultaneously,while in multithreading, many threads of a       process are executed simultaneously.  \n",
    "    (iii)In Multiprocessing, every process owned a separate address space,while in Multithreading, a common address space is shared by all the threads."
   ]
  },
  {
   "cell_type": "code",
   "execution_count": 1,
   "id": "4d79510a-8c1c-47a8-9acb-6f6a761b4765",
   "metadata": {},
   "outputs": [
    {
     "name": "stdout",
     "output_type": "stream",
     "text": [
      "[4, 9, 9, 16, 4, 16, 36, 49, 64, 81]\n"
     ]
    }
   ],
   "source": [
    "#3\n",
    "import multiprocessing\n",
    "\n",
    "def square(index,value):\n",
    "    value[index]=value[index]**2\n",
    "\n",
    "if __name__==\"__main__\":\n",
    "    arr=multiprocessing.Array('i',[2,3,3,4,2,4,6,7,8,9])\n",
    "    process=[]\n",
    "    for i in range(10):\n",
    "        m=multiprocessing.Process(target=square,args=(i,arr))\n",
    "        m.start()\n",
    "        process.append(m)\n",
    "    for i in range(10):\n",
    "        m.join()\n",
    "    print(list(arr))"
   ]
  },
  {
   "cell_type": "markdown",
   "id": "833be763-b4ed-4583-ae13-44ff33adc758",
   "metadata": {},
   "source": [
    "4.Multiprocessing Pool->Python multiprocessing Pool can be used for parallel execution of a function across multiple input values, distributing the input data across processes (data parallelism).  \n",
    "Multiprocessing pool can be used for parallel execution of multiple input variables to a function."
   ]
  },
  {
   "cell_type": "code",
   "execution_count": 4,
   "id": "d43df616-2480-4e40-9073-784e11ff1f71",
   "metadata": {},
   "outputs": [
    {
     "name": "stdout",
     "output_type": "stream",
     "text": [
      "[27, 64, 125, 216, 216, 343, 15625, 1000000, 1000]\n"
     ]
    }
   ],
   "source": [
    "#5\n",
    "def cube(n):\n",
    "    return n**3\n",
    "if __name__==\"__main__\":\n",
    "    with multiprocessing.Pool(processes=6) as pool:\n",
    "        out=pool.map(cube,[3,4,5,6,6,7,25,100,10])\n",
    "        print(out)"
   ]
  },
  {
   "cell_type": "code",
   "execution_count": 8,
   "id": "109fcdc1-0608-48e7-b340-23ea8df8d9f4",
   "metadata": {},
   "outputs": [
    {
     "name": "stdout",
     "output_type": "stream",
     "text": [
      "[3, 4, 5, 6]\n"
     ]
    }
   ],
   "source": [
    "#6\n",
    "def printNum(n):\n",
    "    return n\n",
    "if __name__==\"__main__\":\n",
    "    with multiprocessing.Pool(processes=4) as pool:\n",
    "        out=pool.map(printNum,[3,4,5,6])\n",
    "        print(out)"
   ]
  },
  {
   "cell_type": "code",
   "execution_count": null,
   "id": "d7b5f6f3-799a-4e07-bf99-aff9e1bc483f",
   "metadata": {},
   "outputs": [],
   "source": []
  }
 ],
 "metadata": {
  "kernelspec": {
   "display_name": "Python 3 (ipykernel)",
   "language": "python",
   "name": "python3"
  },
  "language_info": {
   "codemirror_mode": {
    "name": "ipython",
    "version": 3
   },
   "file_extension": ".py",
   "mimetype": "text/x-python",
   "name": "python",
   "nbconvert_exporter": "python",
   "pygments_lexer": "ipython3",
   "version": "3.10.8"
  }
 },
 "nbformat": 4,
 "nbformat_minor": 5
}
