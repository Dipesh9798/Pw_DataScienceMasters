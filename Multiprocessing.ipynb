{
 "cells": [
  {
   "cell_type": "code",
   "execution_count": 2,
   "id": "339c26df-bef6-4c74-adfe-aafc7cd31076",
   "metadata": {},
   "outputs": [
    {
     "name": "stdout",
     "output_type": "stream",
     "text": [
      "this is my main program\n",
      "this is my multiprocessing program\n"
     ]
    }
   ],
   "source": [
    "import multiprocessing\n",
    "\n",
    "def test():\n",
    "    print(\"this is my multiprocessing program\")\n",
    "\n",
    "if __name__==\"__main__\":\n",
    "    m=multiprocessing.Process(target=test)\n",
    "    print(\"this is my main program\")\n",
    "    m.start()\n",
    "    m.join()"
   ]
  },
  {
   "cell_type": "code",
   "execution_count": 3,
   "id": "1da05a28-5a77-467e-bff4-c6b909176654",
   "metadata": {},
   "outputs": [
    {
     "name": "stdout",
     "output_type": "stream",
     "text": [
      "this is my multiprocessing program\n"
     ]
    }
   ],
   "source": [
    "test()"
   ]
  },
  {
   "cell_type": "code",
   "execution_count": 4,
   "id": "35c0cd83-518c-4aff-991f-6c215c9ab532",
   "metadata": {},
   "outputs": [
    {
     "name": "stdout",
     "output_type": "stream",
     "text": [
      "[9, 16, 25, 36, 36, 49, 625, 10000, 100]\n"
     ]
    }
   ],
   "source": [
    "def square(n):\n",
    "    return n**2\n",
    "if __name__==\"__main__\":\n",
    "    with multiprocessing.Pool(processes=5) as pool:\n",
    "        out=pool.map(square,[3,4,5,6,6,7,25,100,10])\n",
    "        print(out)"
   ]
  },
  {
   "cell_type": "code",
   "execution_count": null,
   "id": "e52c617c-104f-4e9a-a3c3-6ca555ab8530",
   "metadata": {},
   "outputs": [
    {
     "name": "stdout",
     "output_type": "stream",
     "text": [
      "rahul\n",
      "abhi\n",
      "ravi\n",
      "dip\n",
      "xyz\n"
     ]
    }
   ],
   "source": [
    "import multiprocessing\n",
    "\n",
    "def processor(q):\n",
    "    for i in [\"rahul\",\"abhi\",\"ravi\",\"dip\"]:\n",
    "        q.put(i)\n",
    "\n",
    "def consumer(q):\n",
    "    while True:\n",
    "        item=q.get()\n",
    "        if item is None:\n",
    "            break\n",
    "        print(item)\n",
    "\n",
    "if __name__==\"__main__\":\n",
    "    queue=multiprocessing.Queue()\n",
    "    m1=multiprocessing.Process(target=processor,args=(queue,))\n",
    "    m2=multiprocessing.Process(target=consumer,args=(queue,))\n",
    "    m1.start()\n",
    "    m2.start()\n",
    "    queue.put(\"xyz\")\n",
    "    m1.join()\n",
    "    m2.join()"
   ]
  },
  {
   "cell_type": "code",
   "execution_count": null,
   "id": "9a6e1345-0cbb-4580-867a-e06e55d27250",
   "metadata": {},
   "outputs": [],
   "source": [
    "import multiprocessing\n",
    "\n",
    "def square(index,value):\n",
    "    value[index]=value[index]**2\n",
    "\n",
    "if __name__==\"__main__\":\n",
    "    arr=multiprocessing.Array('i',[2,3,3,4,2,4,6,7,8,9])\n",
    "    process=[]\n",
    "    for i in range(10):\n",
    "        m=multiprocessing.Process(target=square,args=(i,arr))\n",
    "        m.start()\n",
    "        process.append(m)\n",
    "    for i in range(10):\n",
    "        m.join()\n",
    "    print(ar)"
   ]
  }
 ],
 "metadata": {
  "kernelspec": {
   "display_name": "Python 3 (ipykernel)",
   "language": "python",
   "name": "python3"
  },
  "language_info": {
   "codemirror_mode": {
    "name": "ipython",
    "version": 3
   },
   "file_extension": ".py",
   "mimetype": "text/x-python",
   "name": "python",
   "nbconvert_exporter": "python",
   "pygments_lexer": "ipython3",
   "version": "3.10.8"
  }
 },
 "nbformat": 4,
 "nbformat_minor": 5
}
