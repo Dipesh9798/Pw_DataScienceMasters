{
 "cells": [
  {
   "cell_type": "code",
   "execution_count": 3,
   "id": "e3814d33-52c0-4f9c-8f3f-5910ea7e1c57",
   "metadata": {},
   "outputs": [],
   "source": [
    "import requests\n",
    "from bs4 import BeautifulSoup as bs\n",
    "from urllib.request import urlopen\n",
    "import logging"
   ]
  },
  {
   "cell_type": "code",
   "execution_count": 4,
   "id": "29633d91-1b73-43c6-af7c-da99f891f2e0",
   "metadata": {},
   "outputs": [],
   "source": [
    "flipkart_url=\"https://www.flipkart.com/search?q=\" + \"tv\""
   ]
  },
  {
   "cell_type": "code",
   "execution_count": 5,
   "id": "5b1d1488-f76d-4eaa-8d57-16c3b98f0c4f",
   "metadata": {},
   "outputs": [
    {
     "data": {
      "text/plain": [
       "'https://www.flipkart.com/search?q=tv'"
      ]
     },
     "execution_count": 5,
     "metadata": {},
     "output_type": "execute_result"
    }
   ],
   "source": [
    "flipkart_url"
   ]
  },
  {
   "cell_type": "code",
   "execution_count": 6,
   "id": "b8d9790d-477b-4b15-aa8f-b6c710c60991",
   "metadata": {},
   "outputs": [],
   "source": [
    "urlclient=urlopen(flipkart_url)"
   ]
  },
  {
   "cell_type": "code",
   "execution_count": 7,
   "id": "6acb3408-1d44-41a9-9d8d-4af33d76ae1c",
   "metadata": {},
   "outputs": [],
   "source": [
    "flipkart_page=urlclient.read()"
   ]
  },
  {
   "cell_type": "code",
   "execution_count": 8,
   "id": "0958b6b6-591d-4aed-861d-b6e748fe5584",
   "metadata": {},
   "outputs": [],
   "source": [
    "flipkart_html=bs(flipkart_page,'html.parser')"
   ]
  },
  {
   "cell_type": "code",
   "execution_count": 9,
   "id": "a33a1772-9ea1-483c-a829-2b96d167beac",
   "metadata": {},
   "outputs": [
    {
     "data": {
      "text/plain": [
       "'https://www.flipkart.com/adsun-80-cm-32-inch-hd-ready-led-smart-android-based-tv/p/itmffmnvy7khsuzx?pid=TVSFFMNVUVNS3SHF&lid=LSTTVSFFMNVUVNS3SHFVWHTAU&marketplace=FLIPKART&q=tv&store=ckf%2Fczl&srno=s_1_2&otracker=search&fm=organic&iid=en_xo51Rp%2FpZwRFMBXXLCx%2BbZ8vm8%2Fukql%2B%2BP8iC%2FIlQTKCM0o3H%2BOhZXeqmztbVc%2FqWquE8kMfOtk00Abf1ljvzA%3D%3D&ppt=None&ppn=None&ssid=j3fecsl0hs0000001679471651102&qH=c9a1fdac6e082dd8'"
      ]
     },
     "execution_count": 9,
     "metadata": {},
     "output_type": "execute_result"
    }
   ],
   "source": [
    "\"https://www.flipkart.com\" + \"/adsun-80-cm-32-inch-hd-ready-led-smart-android-based-tv/p/itmffmnvy7khsuzx?pid=TVSFFMNVUVNS3SHF&lid=LSTTVSFFMNVUVNS3SHFVWHTAU&marketplace=FLIPKART&q=tv&store=ckf%2Fczl&srno=s_1_2&otracker=search&fm=organic&iid=en_xo51Rp%2FpZwRFMBXXLCx%2BbZ8vm8%2Fukql%2B%2BP8iC%2FIlQTKCM0o3H%2BOhZXeqmztbVc%2FqWquE8kMfOtk00Abf1ljvzA%3D%3D&ppt=None&ppn=None&ssid=j3fecsl0hs0000001679471651102&qH=c9a1fdac6e082dd8\""
   ]
  },
  {
   "cell_type": "code",
   "execution_count": 10,
   "id": "126d1932-4c34-4a8c-a4df-f2077890998c",
   "metadata": {},
   "outputs": [],
   "source": [
    "bigbox=flipkart_html.find_all(\"div\",{\"class\":\"_1AtVbE col-12-12\"})"
   ]
  },
  {
   "cell_type": "code",
   "execution_count": 11,
   "id": "7e4e7e78-8a9c-457b-babe-3ceae2254887",
   "metadata": {},
   "outputs": [
    {
     "data": {
      "text/plain": [
       "30"
      ]
     },
     "execution_count": 11,
     "metadata": {},
     "output_type": "execute_result"
    }
   ],
   "source": [
    "len(bigbox)"
   ]
  },
  {
   "cell_type": "code",
   "execution_count": 12,
   "id": "d02497ab-6916-4166-829a-84410de41a19",
   "metadata": {},
   "outputs": [],
   "source": [
    "del bigbox[0:3]"
   ]
  },
  {
   "cell_type": "code",
   "execution_count": 13,
   "id": "1bf0a7f0-a04e-4566-bdca-9ef64d54e026",
   "metadata": {},
   "outputs": [
    {
     "data": {
      "text/plain": [
       "27"
      ]
     },
     "execution_count": 13,
     "metadata": {},
     "output_type": "execute_result"
    }
   ],
   "source": [
    "len(bigbox)"
   ]
  },
  {
   "cell_type": "code",
   "execution_count": 14,
   "id": "52b27bc4-4820-4a9c-b835-936eebfd7bf7",
   "metadata": {},
   "outputs": [],
   "source": [
    "productlink=\"https://www.flipkart.com\" + bigbox[0].div.div.div.a[\"href\"]"
   ]
  },
  {
   "cell_type": "code",
   "execution_count": 15,
   "id": "3f2f0d38-dc5a-4521-8bd1-b33f0f16c552",
   "metadata": {},
   "outputs": [
    {
     "ename": "AttributeError",
     "evalue": "'NoneType' object has no attribute 'a'",
     "output_type": "error",
     "traceback": [
      "\u001b[0;31m---------------------------------------------------------------------------\u001b[0m",
      "\u001b[0;31mAttributeError\u001b[0m                            Traceback (most recent call last)",
      "Cell \u001b[0;32mIn[15], line 3\u001b[0m\n\u001b[1;32m      1\u001b[0m productslink\u001b[38;5;241m=\u001b[39m[]\n\u001b[1;32m      2\u001b[0m \u001b[38;5;28;01mfor\u001b[39;00m i \u001b[38;5;129;01min\u001b[39;00m bigbox:\n\u001b[0;32m----> 3\u001b[0m     productslink\u001b[38;5;241m.\u001b[39mappend(\u001b[38;5;124m\"\u001b[39m\u001b[38;5;124mhttps://www.flipkart.com\u001b[39m\u001b[38;5;124m\"\u001b[39m \u001b[38;5;241m+\u001b[39m \u001b[43mi\u001b[49m\u001b[38;5;241;43m.\u001b[39;49m\u001b[43mdiv\u001b[49m\u001b[38;5;241;43m.\u001b[39;49m\u001b[43mdiv\u001b[49m\u001b[38;5;241;43m.\u001b[39;49m\u001b[43mdiv\u001b[49m\u001b[38;5;241;43m.\u001b[39;49m\u001b[43ma\u001b[49m[\u001b[38;5;124m\"\u001b[39m\u001b[38;5;124mhref\u001b[39m\u001b[38;5;124m\"\u001b[39m])\n",
      "\u001b[0;31mAttributeError\u001b[0m: 'NoneType' object has no attribute 'a'"
     ]
    }
   ],
   "source": [
    "productslink=[]\n",
    "for i in bigbox:\n",
    "    productslink.append(\"https://www.flipkart.com\" + i.div.div.div.a[\"href\"])"
   ]
  },
  {
   "cell_type": "code",
   "execution_count": 16,
   "id": "c6370a1f-3f39-40c4-89cb-d1b872fdbeb4",
   "metadata": {},
   "outputs": [
    {
     "data": {
      "text/plain": [
       "23"
      ]
     },
     "execution_count": 16,
     "metadata": {},
     "output_type": "execute_result"
    }
   ],
   "source": [
    "len(productslink)"
   ]
  },
  {
   "cell_type": "code",
   "execution_count": 17,
   "id": "0f213e19-d11d-4089-9ec8-3898de603d54",
   "metadata": {},
   "outputs": [
    {
     "data": {
      "text/plain": [
       "'https://www.flipkart.com/adsun-smart-series-60-cm-24-inch-hd-ready-led-android-based-tv/p/itm6c4b3411aeb50?pid=TVSGAHZYEWJC9APV&lid=LSTTVSGAHZYEWJC9APVPDMHEN&marketplace=FLIPKART&q=tv&store=ckf%2Fczl&srno=s_1_2&otracker=search&fm=organic&iid=en_aqGC0mGhgnkJRrITXswhqtnssjX83fdg2Rp2UlIlukIWiSFcG2g5DI%2B0ZNxuwM1PsqLgSUihrghhV5xe1%2F70mw%3D%3D&ppt=None&ppn=None&ssid=j1efdlin3k0000001679855497601&qH=c9a1fdac6e082dd8'"
      ]
     },
     "execution_count": 17,
     "metadata": {},
     "output_type": "execute_result"
    }
   ],
   "source": [
    "productlink"
   ]
  },
  {
   "cell_type": "code",
   "execution_count": 18,
   "id": "fe77bd06-f67d-4f7f-bb6b-f4d81c99f073",
   "metadata": {},
   "outputs": [],
   "source": [
    "product_req=requests.get(productlink)"
   ]
  },
  {
   "cell_type": "code",
   "execution_count": 19,
   "id": "2869c67c-0928-45af-bd50-4ecc08ab8ee4",
   "metadata": {},
   "outputs": [],
   "source": [
    "product_html=bs(product_req.text,\"html.parser\")"
   ]
  },
  {
   "cell_type": "code",
   "execution_count": 20,
   "id": "e8c64063-2362-460e-b421-df2ffc5d2c62",
   "metadata": {},
   "outputs": [],
   "source": [
    "comment_box=product_html.find_all(\"div\",{\"class\":\"_16PBlm\"})"
   ]
  },
  {
   "cell_type": "code",
   "execution_count": 21,
   "id": "d076efb1-7f49-42d4-86f0-8be1462af1af",
   "metadata": {},
   "outputs": [
    {
     "data": {
      "text/plain": [
       "11"
      ]
     },
     "execution_count": 21,
     "metadata": {},
     "output_type": "execute_result"
    }
   ],
   "source": [
    "len(comment_box)"
   ]
  },
  {
   "cell_type": "code",
   "execution_count": 22,
   "id": "2bdd8497-77a0-48b6-92c9-7195838c343f",
   "metadata": {},
   "outputs": [
    {
     "data": {
      "text/plain": [
       "'Shiva'"
      ]
     },
     "execution_count": 22,
     "metadata": {},
     "output_type": "execute_result"
    }
   ],
   "source": [
    "comment_box[0].div.div.find_all(\"p\",{\"class\":\"_2sc7ZR _2V5EHH\"})[0].text"
   ]
  },
  {
   "cell_type": "code",
   "execution_count": 23,
   "id": "44957dde-5c4a-42d4-9ac3-d3edfbe92ae4",
   "metadata": {},
   "outputs": [
    {
     "name": "stdout",
     "output_type": "stream",
     "text": [
      "Shiva\n",
      "Flipkart Customer\n",
      "Lokesh GIRHARE\n",
      "Gaurav Vig\n",
      "Manoj  Yadav\n",
      "Deepak Pal\n",
      "Darshna Thakar\n",
      "Puneet Rana\n",
      "Thakur Anand kishor  Chauhan \n",
      "Kantheti Vamsi Durga Krishna\n"
     ]
    },
    {
     "ename": "AttributeError",
     "evalue": "'NoneType' object has no attribute 'div'",
     "output_type": "error",
     "traceback": [
      "\u001b[0;31m---------------------------------------------------------------------------\u001b[0m",
      "\u001b[0;31mAttributeError\u001b[0m                            Traceback (most recent call last)",
      "Cell \u001b[0;32mIn[23], line 2\u001b[0m\n\u001b[1;32m      1\u001b[0m \u001b[38;5;28;01mfor\u001b[39;00m i \u001b[38;5;129;01min\u001b[39;00m comment_box:\n\u001b[0;32m----> 2\u001b[0m     \u001b[38;5;28mprint\u001b[39m(\u001b[43mi\u001b[49m\u001b[38;5;241;43m.\u001b[39;49m\u001b[43mdiv\u001b[49m\u001b[38;5;241;43m.\u001b[39;49m\u001b[43mdiv\u001b[49m\u001b[38;5;241m.\u001b[39mfind_all(\u001b[38;5;124m\"\u001b[39m\u001b[38;5;124mp\u001b[39m\u001b[38;5;124m\"\u001b[39m,{\u001b[38;5;124m\"\u001b[39m\u001b[38;5;124mclass\u001b[39m\u001b[38;5;124m\"\u001b[39m:\u001b[38;5;124m\"\u001b[39m\u001b[38;5;124m_2sc7ZR _2V5EHH\u001b[39m\u001b[38;5;124m\"\u001b[39m})[\u001b[38;5;241m0\u001b[39m]\u001b[38;5;241m.\u001b[39mtext)\n",
      "\u001b[0;31mAttributeError\u001b[0m: 'NoneType' object has no attribute 'div'"
     ]
    }
   ],
   "source": [
    "for i in comment_box:\n",
    "    print(i.div.div.find_all(\"p\",{\"class\":\"_2sc7ZR _2V5EHH\"})[0].text)"
   ]
  },
  {
   "cell_type": "code",
   "execution_count": 24,
   "id": "98861221-e986-48d9-b91f-7b60100b9d55",
   "metadata": {},
   "outputs": [
    {
     "name": "stdout",
     "output_type": "stream",
     "text": [
      "5\n",
      "5\n",
      "5\n",
      "5\n",
      "5\n",
      "5\n",
      "4\n",
      "4\n",
      "5\n",
      "5\n"
     ]
    },
    {
     "ename": "AttributeError",
     "evalue": "'NoneType' object has no attribute 'div'",
     "output_type": "error",
     "traceback": [
      "\u001b[0;31m---------------------------------------------------------------------------\u001b[0m",
      "\u001b[0;31mAttributeError\u001b[0m                            Traceback (most recent call last)",
      "Cell \u001b[0;32mIn[24], line 2\u001b[0m\n\u001b[1;32m      1\u001b[0m \u001b[38;5;28;01mfor\u001b[39;00m i \u001b[38;5;129;01min\u001b[39;00m comment_box:\n\u001b[0;32m----> 2\u001b[0m     \u001b[38;5;28mprint\u001b[39m(\u001b[43mi\u001b[49m\u001b[38;5;241;43m.\u001b[39;49m\u001b[43mdiv\u001b[49m\u001b[38;5;241;43m.\u001b[39;49m\u001b[43mdiv\u001b[49m\u001b[38;5;241m.\u001b[39mdiv\u001b[38;5;241m.\u001b[39mdiv\u001b[38;5;241m.\u001b[39mtext)\n",
      "\u001b[0;31mAttributeError\u001b[0m: 'NoneType' object has no attribute 'div'"
     ]
    }
   ],
   "source": [
    "for i in comment_box:\n",
    "    print(i.div.div.div.div.text)"
   ]
  },
  {
   "cell_type": "code",
   "execution_count": 25,
   "id": "efb52e2d-e317-4263-b0be-98518aa10c0b",
   "metadata": {},
   "outputs": [
    {
     "name": "stdout",
     "output_type": "stream",
     "text": [
      "Classy product\n",
      "Great product\n",
      "Terrific purchase\n",
      "Worth every penny\n",
      "Brilliant\n",
      "Wonderful\n",
      "Worth the money\n",
      "Really Nice\n",
      "Awesome\n",
      "Wonderful\n"
     ]
    },
    {
     "ename": "AttributeError",
     "evalue": "'NoneType' object has no attribute 'div'",
     "output_type": "error",
     "traceback": [
      "\u001b[0;31m---------------------------------------------------------------------------\u001b[0m",
      "\u001b[0;31mAttributeError\u001b[0m                            Traceback (most recent call last)",
      "Cell \u001b[0;32mIn[25], line 2\u001b[0m\n\u001b[1;32m      1\u001b[0m \u001b[38;5;28;01mfor\u001b[39;00m i \u001b[38;5;129;01min\u001b[39;00m comment_box:\n\u001b[0;32m----> 2\u001b[0m     \u001b[38;5;28mprint\u001b[39m(\u001b[43mi\u001b[49m\u001b[38;5;241;43m.\u001b[39;49m\u001b[43mdiv\u001b[49m\u001b[38;5;241;43m.\u001b[39;49m\u001b[43mdiv\u001b[49m\u001b[38;5;241m.\u001b[39mdiv\u001b[38;5;241m.\u001b[39mp\u001b[38;5;241m.\u001b[39mtext)\n",
      "\u001b[0;31mAttributeError\u001b[0m: 'NoneType' object has no attribute 'div'"
     ]
    }
   ],
   "source": [
    "for i in comment_box:\n",
    "    print(i.div.div.div.p.text)"
   ]
  },
  {
   "cell_type": "code",
   "execution_count": 26,
   "id": "66579182-f94e-420a-800b-da4213fd3e27",
   "metadata": {},
   "outputs": [
    {
     "data": {
      "text/plain": [
       "'Nice tv.. Good clarity of picture.. @this cost it is very good tv.. But no installation done. Installation done by self..READ MORE'"
      ]
     },
     "execution_count": 26,
     "metadata": {},
     "output_type": "execute_result"
    }
   ],
   "source": [
    "comment_box[0].div.div.find_all(\"div\",{\"class\":\"\"})[0].text"
   ]
  },
  {
   "cell_type": "code",
   "execution_count": 27,
   "id": "a37524b2-fc26-428d-aac2-703b6a735d3a",
   "metadata": {},
   "outputs": [
    {
     "name": "stdout",
     "output_type": "stream",
     "text": [
      "Nice tv.. Good clarity of picture.. @this cost it is very good tv.. But no installation done. Installation done by self..READ MORE\n",
      "It's a good item.iloved.it superit's very good tv on screen mirroring wifi usb.   And support superb tv thankyou FlipkartREAD MORE\n",
      "Nice tv picture quality good & sound is to good screen minoring is not availableREAD MORE\n",
      "Nice product in such a low price range, good picture quality, good sound quality. Overall a good to buy in such a price range.READ MORE\n",
      "I'm happy with the service and installation. The product is awesome a great deal of price. The picture quality is good and sound is best this segment. The system is also used friendly. Completely satisfied with the product..READ MORE\n",
      "This product is very good quality.sound and all things is good and remote is better so I suggest that led tv because it's my country brand and all things is good and Nice product in such a low price range I am impressed.READ MORE\n",
      "Very fast dilivery, was suppose get one 28 th arrived on 26 , giving one star less I got confirm message of installation for tv but they never arrived and cancelled from there end . Other wise picture quality , sound all good with good price .READ MORE\n",
      "Installed led smart tv today,happy to see its picture and sound quality.price wise it's a good deal,you get all smart features accept Disney plus hot star,app doesn't not run on my smart tv.. overall go for it without hesitation..READ MORE\n",
      "It's very good TV picture quality and sound quality is very good such as price range is sweetable for me.i am very happy after bought adsun led TV. I also like that because it is made in India. Fully domestic.READ MORE\n",
      "ExcellentGenuine & Unbiased review after 10 days of use. Audio, Video Price & Build quality is excellent. If any one want to purchase LED TV, then try once ADSUN LED TV. Definitely like it. In this price range, it is definitely worth it.READ MORE\n"
     ]
    },
    {
     "ename": "AttributeError",
     "evalue": "'NoneType' object has no attribute 'div'",
     "output_type": "error",
     "traceback": [
      "\u001b[0;31m---------------------------------------------------------------------------\u001b[0m",
      "\u001b[0;31mAttributeError\u001b[0m                            Traceback (most recent call last)",
      "Cell \u001b[0;32mIn[27], line 2\u001b[0m\n\u001b[1;32m      1\u001b[0m \u001b[38;5;28;01mfor\u001b[39;00m i \u001b[38;5;129;01min\u001b[39;00m comment_box:\n\u001b[0;32m----> 2\u001b[0m     \u001b[38;5;28mprint\u001b[39m(\u001b[43mi\u001b[49m\u001b[38;5;241;43m.\u001b[39;49m\u001b[43mdiv\u001b[49m\u001b[38;5;241;43m.\u001b[39;49m\u001b[43mdiv\u001b[49m\u001b[38;5;241m.\u001b[39mfind_all(\u001b[38;5;124m\"\u001b[39m\u001b[38;5;124mdiv\u001b[39m\u001b[38;5;124m\"\u001b[39m,{\u001b[38;5;124m\"\u001b[39m\u001b[38;5;124mclass\u001b[39m\u001b[38;5;124m\"\u001b[39m:\u001b[38;5;124m\"\u001b[39m\u001b[38;5;124m\"\u001b[39m})[\u001b[38;5;241m0\u001b[39m]\u001b[38;5;241m.\u001b[39mtext)\n",
      "\u001b[0;31mAttributeError\u001b[0m: 'NoneType' object has no attribute 'div'"
     ]
    }
   ],
   "source": [
    "for i in comment_box:\n",
    "    print(i.div.div.find_all(\"div\",{\"class\":\"\"})[0].text)"
   ]
  },
  {
   "cell_type": "code",
   "execution_count": null,
   "id": "73c6f0a3-2951-43a6-9cb5-b0747b6076bf",
   "metadata": {},
   "outputs": [],
   "source": []
  }
 ],
 "metadata": {
  "kernelspec": {
   "display_name": "Python 3 (ipykernel)",
   "language": "python",
   "name": "python3"
  },
  "language_info": {
   "codemirror_mode": {
    "name": "ipython",
    "version": 3
   },
   "file_extension": ".py",
   "mimetype": "text/x-python",
   "name": "python",
   "nbconvert_exporter": "python",
   "pygments_lexer": "ipython3",
   "version": "3.10.8"
  }
 },
 "nbformat": 4,
 "nbformat_minor": 5
}
