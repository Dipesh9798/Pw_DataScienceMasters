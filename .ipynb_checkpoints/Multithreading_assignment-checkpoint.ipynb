{
 "cells": [
  {
   "cell_type": "markdown",
   "id": "7c711a87-e3d7-4e62-be3f-fd25943e19ae",
   "metadata": {},
   "source": [
    "1.Multithreading->Multithreading is defined as the ability of a processor to execute multiple threads concurrently.It is used to achieve multitasking.Module used for this purpose is \"threading\"."
   ]
  },
  {
   "cell_type": "markdown",
   "id": "00243e56-a30f-4fee-b746-98f197491c38",
   "metadata": {},
   "source": [
    "2.In Python threading module allows us to have different parts of our program run concurrently and can simplify our design.\n",
    "activeCount()->Returns the number of thread objects that are active.\n",
    "currentThread()−>Returns the number of thread objects in the caller's thread control.\n",
    "enumerate()−>Returns a list of all thread objects that are currently active."
   ]
  },
  {
   "cell_type": "markdown",
   "id": "12a0635e-591a-40e6-bb17-e28c9c3138be",
   "metadata": {},
   "source": [
    "3.1.run()−>The run() method is the entry point for a thread.\n",
    "3.2.start()−>The start() method starts a thread by calling the run method.\n",
    "3.3.join()−>The join() waits for threads to terminate.\n",
    "3.4.isAlive()−>The isAlive() method checks whether a thread is still executing."
   ]
  },
  {
   "cell_type": "code",
   "execution_count": 6,
   "id": "dff4e8e0-e84c-48ba-b1b4-690074bd3209",
   "metadata": {},
   "outputs": [
    {
     "name": "stdout",
     "output_type": "stream",
     "text": [
      "Square of 10 is 100\n",
      "Square of 20 is 400\n",
      "Square of 30 is 900\n",
      "Square of 40 is 1600\n",
      "Cube of 10 is 1000\n",
      "Cube of 20 is 8000\n",
      "Cube of 30 is 27000\n",
      "Cube of 40 is 64000\n"
     ]
    }
   ],
   "source": [
    "#4\n",
    "import threading\n",
    " \n",
    "def print_cube(num):\n",
    "    # function to print cube of given num\n",
    "    print(\"Cube of {} is {}\" .format(num,num * num * num))\n",
    " \n",
    " \n",
    "def print_square(num):\n",
    "    # function to print square of given num\n",
    "    print(\"Square of {} is {}\" .format(num,num * num))\n",
    " \n",
    " \n",
    "# creating thread\n",
    "thread1 = [threading.Thread(target=print_square, args=(i,)) for i in [10,20,30,40]]\n",
    "thread2 = [threading.Thread(target=print_cube, args=(i,)) for i in [10,20,30,40]]\n",
    "\n",
    "# starting thread 1\n",
    "for t in thread1:\n",
    "    t.start()\n",
    "# starting thread 2\n",
    "for t in thread2:\n",
    "    t.start()\n"
   ]
  },
  {
   "cell_type": "code",
   "execution_count": null,
   "id": "1ce5ca9a-7fe1-430f-a94e-90943d180c75",
   "metadata": {},
   "outputs": [],
   "source": []
  }
 ],
 "metadata": {
  "kernelspec": {
   "display_name": "Python 3 (ipykernel)",
   "language": "python",
   "name": "python3"
  },
  "language_info": {
   "codemirror_mode": {
    "name": "ipython",
    "version": 3
   },
   "file_extension": ".py",
   "mimetype": "text/x-python",
   "name": "python",
   "nbconvert_exporter": "python",
   "pygments_lexer": "ipython3",
   "version": "3.10.8"
  }
 },
 "nbformat": 4,
 "nbformat_minor": 5
}
