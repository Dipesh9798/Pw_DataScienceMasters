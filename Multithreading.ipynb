{
 "cells": [
  {
   "cell_type": "code",
   "execution_count": 4,
   "id": "984db66c-f8ff-4a41-a7fe-21de3a461df1",
   "metadata": {},
   "outputs": [],
   "source": [
    "import threading"
   ]
  },
  {
   "cell_type": "code",
   "execution_count": 2,
   "id": "31fbf833-e77b-4cd9-a371-fa6c006d6afd",
   "metadata": {},
   "outputs": [],
   "source": [
    "def test(id):\n",
    "    print(\"This is my test id %d\" %id)"
   ]
  },
  {
   "cell_type": "code",
   "execution_count": 3,
   "id": "422e4100-fc3f-42a5-812e-9cb768cc9b7c",
   "metadata": {},
   "outputs": [
    {
     "name": "stdout",
     "output_type": "stream",
     "text": [
      "This is my test id 10\n"
     ]
    }
   ],
   "source": [
    "test(10)"
   ]
  },
  {
   "cell_type": "code",
   "execution_count": 4,
   "id": "0361e851-d2dd-43b6-a360-2b5bcfbea505",
   "metadata": {},
   "outputs": [
    {
     "name": "stdout",
     "output_type": "stream",
     "text": [
      "This is my test id 2\n"
     ]
    }
   ],
   "source": [
    "test(2)"
   ]
  },
  {
   "cell_type": "code",
   "execution_count": 5,
   "id": "a314e51a-1d92-4cca-a2e2-a2e16ba12f28",
   "metadata": {},
   "outputs": [
    {
     "name": "stdout",
     "output_type": "stream",
     "text": [
      "This is my test id 6\n"
     ]
    }
   ],
   "source": [
    "test(6)"
   ]
  },
  {
   "cell_type": "code",
   "execution_count": 8,
   "id": "fc581426-9c54-4b46-b0cd-c8490ad2c7dd",
   "metadata": {},
   "outputs": [],
   "source": [
    "thread=[threading.Thread(target=test,args=(i,)) for i in [10,2,6]]"
   ]
  },
  {
   "cell_type": "code",
   "execution_count": 9,
   "id": "96a12fc6-1f1d-4410-9300-3498e86692e1",
   "metadata": {},
   "outputs": [
    {
     "data": {
      "text/plain": [
       "[<Thread(Thread-8 (test), initial)>,\n",
       " <Thread(Thread-9 (test), initial)>,\n",
       " <Thread(Thread-10 (test), initial)>]"
      ]
     },
     "execution_count": 9,
     "metadata": {},
     "output_type": "execute_result"
    }
   ],
   "source": [
    "thread"
   ]
  },
  {
   "cell_type": "code",
   "execution_count": 10,
   "id": "af763142-82f3-4de5-afff-ea45842b3a77",
   "metadata": {},
   "outputs": [
    {
     "name": "stdout",
     "output_type": "stream",
     "text": [
      "This is my test id 10\n",
      "This is my test id 2\n",
      "This is my test id 6\n"
     ]
    }
   ],
   "source": [
    "for t in thread:\n",
    "    t.start()"
   ]
  },
  {
   "cell_type": "code",
   "execution_count": 1,
   "id": "144423a6-a9ee-4e15-aaae-6d60becf1636",
   "metadata": {},
   "outputs": [],
   "source": [
    "import urllib.request\n",
    "\n",
    "def file_download(url , filename):\n",
    "    urllib.request.urlretrieve(url , filename)"
   ]
  },
  {
   "cell_type": "code",
   "execution_count": 2,
   "id": "26961cef-5a2c-4716-9e3b-27a61b0f0508",
   "metadata": {},
   "outputs": [],
   "source": [
    "file_download('https://raw.githubusercontent.com/itsfoss/text-files/master/agatha.txt' , \"test1.txt\")"
   ]
  },
  {
   "cell_type": "code",
   "execution_count": 3,
   "id": "7c590ddd-3809-421a-878a-c96f450da137",
   "metadata": {},
   "outputs": [],
   "source": [
    "url_list = ['https://raw.githubusercontent.com/itsfoss/text-files/master/agatha.txt' , 'https://raw.githubusercontent.com/itsfoss/text-files/master/sherlock.txt' ,'https://raw.githubusercontent.com/itsfoss/text-files/master/sample_log_file.txt' ]"
   ]
  },
  {
   "cell_type": "code",
   "execution_count": 4,
   "id": "8b915ff2-f0cb-40c9-9a1f-a908b3f4a784",
   "metadata": {},
   "outputs": [
    {
     "data": {
      "text/plain": [
       "['https://raw.githubusercontent.com/itsfoss/text-files/master/agatha.txt',\n",
       " 'https://raw.githubusercontent.com/itsfoss/text-files/master/sherlock.txt',\n",
       " 'https://raw.githubusercontent.com/itsfoss/text-files/master/sample_log_file.txt']"
      ]
     },
     "execution_count": 4,
     "metadata": {},
     "output_type": "execute_result"
    }
   ],
   "source": [
    "url_list"
   ]
  },
  {
   "cell_type": "code",
   "execution_count": 5,
   "id": "3b081cfb-5007-4999-ac66-15113a3238aa",
   "metadata": {},
   "outputs": [],
   "source": [
    "data_file_list = ['data1.txt', 'data2.txt','data3.txt']"
   ]
  },
  {
   "cell_type": "code",
   "execution_count": 6,
   "id": "2d5d0354-ee51-4d80-b426-88b4b60f3517",
   "metadata": {},
   "outputs": [
    {
     "data": {
      "text/plain": [
       "['data1.txt', 'data2.txt', 'data3.txt']"
      ]
     },
     "execution_count": 6,
     "metadata": {},
     "output_type": "execute_result"
    }
   ],
   "source": [
    "data_file_list"
   ]
  },
  {
   "cell_type": "code",
   "execution_count": 9,
   "id": "a6d24461-c3db-4b92-8a19-3966843f4fcb",
   "metadata": {},
   "outputs": [],
   "source": [
    "thread1 = [threading.Thread(target=file_download , args=(url_list[i],data_file_list[i])) for i in range(len(url_list))]"
   ]
  },
  {
   "cell_type": "code",
   "execution_count": 10,
   "id": "78af3da2-2003-43b9-9ff1-f47d0734e279",
   "metadata": {},
   "outputs": [],
   "source": [
    "for t in thread1:\n",
    "    t.start()"
   ]
  },
  {
   "cell_type": "code",
   "execution_count": 11,
   "id": "45094bbc-5cb2-4098-ae92-f391707c0b1d",
   "metadata": {},
   "outputs": [
    {
     "data": {
      "text/plain": [
       "[<Thread(Thread-5 (file_download), stopped 140067820508736)>,\n",
       " <Thread(Thread-6 (file_download), stopped 140067339236928)>,\n",
       " <Thread(Thread-7 (file_download), stopped 140067330844224)>]"
      ]
     },
     "execution_count": 11,
     "metadata": {},
     "output_type": "execute_result"
    }
   ],
   "source": [
    "thread1"
   ]
  },
  {
   "cell_type": "code",
   "execution_count": 1,
   "id": "64364547-fc3c-406d-b3c4-12189ba0cc83",
   "metadata": {},
   "outputs": [],
   "source": [
    "import time"
   ]
  },
  {
   "cell_type": "code",
   "execution_count": 2,
   "id": "b15cbd48-fb81-47fb-b837-cf475dc74cd4",
   "metadata": {},
   "outputs": [],
   "source": [
    "def test2(x) : \n",
    "    for i in range(10) : \n",
    "        print(\" test1 print the value of x %d and print the value of i %d \" %(x,i))\n",
    "        time.sleep(1)"
   ]
  },
  {
   "cell_type": "code",
   "execution_count": 5,
   "id": "72251776-7351-4c11-9f44-bedea783e80d",
   "metadata": {},
   "outputs": [],
   "source": [
    "thread2 = [threading.Thread(target=test2 , args=(i,)) for i in [100 , 10,20,5]]"
   ]
  },
  {
   "cell_type": "code",
   "execution_count": 6,
   "id": "92521c06-0b3b-4ddf-b608-d1c207321a6c",
   "metadata": {},
   "outputs": [
    {
     "name": "stdout",
     "output_type": "stream",
     "text": [
      " test1 print the value of x 100 and print the value of i 0 \n",
      " test1 print the value of x 10 and print the value of i 0 \n",
      " test1 print the value of x 20 and print the value of i 0 \n",
      " test1 print the value of x 5 and print the value of i 0 \n",
      " test1 print the value of x 100 and print the value of i 1 \n",
      " test1 print the value of x 10 and print the value of i 1 \n",
      " test1 print the value of x 5 and print the value of i 1 \n",
      " test1 print the value of x 20 and print the value of i 1 \n",
      " test1 print the value of x 100 and print the value of i 2 \n",
      " test1 print the value of x 10 and print the value of i 2 \n",
      " test1 print the value of x 5 and print the value of i 2 \n",
      " test1 print the value of x 20 and print the value of i 2 \n",
      " test1 print the value of x 100 and print the value of i 3 \n",
      " test1 print the value of x 10 and print the value of i 3 \n",
      " test1 print the value of x 5 and print the value of i 3 \n",
      " test1 print the value of x 20 and print the value of i 3 \n",
      " test1 print the value of x 100 and print the value of i 4 \n",
      " test1 print the value of x 10 and print the value of i 4 \n",
      " test1 print the value of x 5 and print the value of i 4 \n",
      " test1 print the value of x 20 and print the value of i 4 \n",
      " test1 print the value of x 100 and print the value of i 5 \n",
      " test1 print the value of x 10 and print the value of i 5 \n",
      " test1 print the value of x 5 and print the value of i 5 \n",
      " test1 print the value of x 20 and print the value of i 5 \n",
      " test1 print the value of x 100 and print the value of i 6 \n",
      " test1 print the value of x 10 and print the value of i 6 \n",
      " test1 print the value of x 5 and print the value of i 6 \n",
      " test1 print the value of x 20 and print the value of i 6 \n",
      " test1 print the value of x 100 and print the value of i 7 \n",
      " test1 print the value of x 10 and print the value of i 7 \n",
      " test1 print the value of x 5 and print the value of i 7 \n",
      " test1 print the value of x 20 and print the value of i 7 \n",
      " test1 print the value of x 100 and print the value of i 8 \n",
      " test1 print the value of x 10 and print the value of i 8 \n",
      " test1 print the value of x 5 and print the value of i 8 \n",
      " test1 print the value of x 20 and print the value of i 8 \n",
      " test1 print the value of x 100 and print the value of i 9 \n",
      " test1 print the value of x 10 and print the value of i 9 \n",
      " test1 print the value of x 5 and print the value of i 9 \n",
      " test1 print the value of x 20 and print the value of i 9 \n"
     ]
    }
   ],
   "source": [
    "for t in thread2:\n",
    "    t.start()"
   ]
  },
  {
   "cell_type": "code",
   "execution_count": null,
   "id": "ddb790ab-b725-45fb-80b0-cd1812ce87bf",
   "metadata": {},
   "outputs": [],
   "source": []
  }
 ],
 "metadata": {
  "kernelspec": {
   "display_name": "Python 3 (ipykernel)",
   "language": "python",
   "name": "python3"
  },
  "language_info": {
   "codemirror_mode": {
    "name": "ipython",
    "version": 3
   },
   "file_extension": ".py",
   "mimetype": "text/x-python",
   "name": "python",
   "nbconvert_exporter": "python",
   "pygments_lexer": "ipython3",
   "version": "3.10.8"
  }
 },
 "nbformat": 4,
 "nbformat_minor": 5
}
