{
 "cells": [
  {
   "cell_type": "markdown",
   "id": "7c711a87-e3d7-4e62-be3f-fd25943e19ae",
   "metadata": {},
   "source": [
    "1.Multithreading->Multithreading is defined as the ability of a processor to execute multiple threads concurrently.It is used to achieve multitasking.Module used for this purpose is \"threading\"."
   ]
  },
  {
   "cell_type": "markdown",
   "id": "00243e56-a30f-4fee-b746-98f197491c38",
   "metadata": {},
   "source": [
    "2.In Python threading module allows us to have different parts of our program run concurrently and can simplify our design.  \n",
    "activeCount()->Returns the number of thread objects that are active.  \n",
    "currentThread()−>Returns the number of thread objects in the caller's thread control.  \n",
    "enumerate()−>Returns a list of all thread objects that are currently active."
   ]
  },
  {
   "cell_type": "markdown",
   "id": "12a0635e-591a-40e6-bb17-e28c9c3138be",
   "metadata": {},
   "source": [
    "3.1.run()−>The run() method is the entry point for a thread.  \n",
    "3.2.start()−>The start() method starts a thread by calling the run method.  \n",
    "3.3.join()−>The join() waits for threads to terminate.  \n",
    "3.4.isAlive()−>The isAlive() method checks whether a thread is still executing."
   ]
  },
  {
   "cell_type": "code",
   "execution_count": 6,
   "id": "dff4e8e0-e84c-48ba-b1b4-690074bd3209",
   "metadata": {},
   "outputs": [
    {
     "name": "stdout",
     "output_type": "stream",
     "text": [
      "Square of 10 is 100\n",
      "Square of 20 is 400\n",
      "Square of 30 is 900\n",
      "Square of 40 is 1600\n",
      "Cube of 10 is 1000\n",
      "Cube of 20 is 8000\n",
      "Cube of 30 is 27000\n",
      "Cube of 40 is 64000\n"
     ]
    }
   ],
   "source": [
    "#4\n",
    "import threading\n",
    " \n",
    "def print_cube(num):\n",
    "    # function to print cube of given num\n",
    "    print(\"Cube of {} is {}\" .format(num,num * num * num))\n",
    " \n",
    " \n",
    "def print_square(num):\n",
    "    # function to print square of given num\n",
    "    print(\"Square of {} is {}\" .format(num,num * num))\n",
    " \n",
    " \n",
    "# creating thread\n",
    "thread1 = [threading.Thread(target=print_square, args=(i,)) for i in [10,20,30,40]]\n",
    "thread2 = [threading.Thread(target=print_cube, args=(i,)) for i in [10,20,30,40]]\n",
    "\n",
    "# starting thread 1\n",
    "for t in thread1:\n",
    "    t.start()\n",
    "# starting thread 2\n",
    "for t in thread2:\n",
    "    t.start()\n"
   ]
  },
  {
   "cell_type": "markdown",
   "id": "6a573169-1e45-4a95-8169-f71c494153e9",
   "metadata": {},
   "source": [
    "5.Advantages-> Enhanced performance by decreased development time\n",
    "                Simplified and streamlined program coding\n",
    "                Improvised GUI responsiveness\n",
    "                Simultaneous and parallelized occurrence of tasks\n",
    "                Better use of cache storage by utilization of resources\n",
    "                Decreased cost of maintenance\n",
    "                Better use of CPU resource.\n",
    "\n",
    "Disadvantages->Complex debugging and testing processes\n",
    "                Overhead switching of context\n",
    "                Increased potential for deadlock occurrence\n",
    "                Increased difficulty level in writing a program.\n"
   ]
  },
  {
   "cell_type": "markdown",
   "id": "a60cd1be-e5a2-415d-bb54-003ca4f674d9",
   "metadata": {},
   "source": [
    "6.Deadlock->A deadlock is a concurrency failure mode where a thread or threads wait for a condition that never occurs.The result is that the deadlock threads are unable to progress and the program is stuck or frozen and must be terminated forcefully.  \n",
    "Race Condition->A race condition occurs when two threads access a shared variable at the same time. The first thread reads the variable, and the second thread reads the same value from the variable. Then the first thread and second thread perform their operations on the value, and they race to see which thread can write the value last to the shared variable. The value of the thread that writes its value last is preserved, because the thread is writing over the value that the previous thread wrote."
   ]
  }
 ],
 "metadata": {
  "kernelspec": {
   "display_name": "Python 3 (ipykernel)",
   "language": "python",
   "name": "python3"
  },
  "language_info": {
   "codemirror_mode": {
    "name": "ipython",
    "version": 3
   },
   "file_extension": ".py",
   "mimetype": "text/x-python",
   "name": "python",
   "nbconvert_exporter": "python",
   "pygments_lexer": "ipython3",
   "version": "3.10.8"
  }
 },
 "nbformat": 4,
 "nbformat_minor": 5
}
